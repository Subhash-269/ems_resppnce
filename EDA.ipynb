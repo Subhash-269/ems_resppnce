{
 "cells": [
  {
   "cell_type": "code",
   "execution_count": 1,
   "id": "31c8d23b",
   "metadata": {},
   "outputs": [],
   "source": [
    "import pandas as pd\n",
    "import numpy as np\n",
    "import plotly.express as px"
   ]
  },
  {
   "cell_type": "code",
   "execution_count": 3,
   "id": "e9f30ddd",
   "metadata": {},
   "outputs": [
    {
     "data": {
      "text/html": [
       "<div>\n",
       "<style scoped>\n",
       "    .dataframe tbody tr th:only-of-type {\n",
       "        vertical-align: middle;\n",
       "    }\n",
       "\n",
       "    .dataframe tbody tr th {\n",
       "        vertical-align: top;\n",
       "    }\n",
       "\n",
       "    .dataframe thead th {\n",
       "        text-align: right;\n",
       "    }\n",
       "</style>\n",
       "<table border=\"1\" class=\"dataframe\">\n",
       "  <thead>\n",
       "    <tr style=\"text-align: right;\">\n",
       "      <th></th>\n",
       "      <th>OBJECTID</th>\n",
       "      <th>STATE</th>\n",
       "      <th>STATENAME</th>\n",
       "      <th>ST_CASE</th>\n",
       "      <th>PEDS</th>\n",
       "      <th>PERNOTMVIT</th>\n",
       "      <th>VE_TOTAL</th>\n",
       "      <th>VE_FORMS</th>\n",
       "      <th>PVH_INVL</th>\n",
       "      <th>PERSONS</th>\n",
       "      <th>...</th>\n",
       "      <th>ARR_HOURNAME</th>\n",
       "      <th>ARR_MIN</th>\n",
       "      <th>ARR_MINNAME</th>\n",
       "      <th>HOSP_HR</th>\n",
       "      <th>HOSP_HRNAME</th>\n",
       "      <th>HOSP_MN</th>\n",
       "      <th>HOSP_MNNAME</th>\n",
       "      <th>FATALS</th>\n",
       "      <th>x</th>\n",
       "      <th>y</th>\n",
       "    </tr>\n",
       "  </thead>\n",
       "  <tbody>\n",
       "    <tr>\n",
       "      <th>0</th>\n",
       "      <td>1</td>\n",
       "      <td>1</td>\n",
       "      <td>Alabama</td>\n",
       "      <td>10001</td>\n",
       "      <td>0</td>\n",
       "      <td>0</td>\n",
       "      <td>1</td>\n",
       "      <td>1</td>\n",
       "      <td>0</td>\n",
       "      <td>1</td>\n",
       "      <td>...</td>\n",
       "      <td>10:00pm-10:59pm</td>\n",
       "      <td>45</td>\n",
       "      <td>45</td>\n",
       "      <td>88</td>\n",
       "      <td>Not Applicable (Not Transported)</td>\n",
       "      <td>88</td>\n",
       "      <td>Not Applicable (Not Transported)</td>\n",
       "      <td>1</td>\n",
       "      <td>-9.633459e+06</td>\n",
       "      <td>3.753860e+06</td>\n",
       "    </tr>\n",
       "    <tr>\n",
       "      <th>1</th>\n",
       "      <td>2</td>\n",
       "      <td>1</td>\n",
       "      <td>Alabama</td>\n",
       "      <td>10002</td>\n",
       "      <td>0</td>\n",
       "      <td>0</td>\n",
       "      <td>1</td>\n",
       "      <td>1</td>\n",
       "      <td>0</td>\n",
       "      <td>1</td>\n",
       "      <td>...</td>\n",
       "      <td>2:00am-2:59am</td>\n",
       "      <td>23</td>\n",
       "      <td>23</td>\n",
       "      <td>88</td>\n",
       "      <td>Not Applicable (Not Transported)</td>\n",
       "      <td>88</td>\n",
       "      <td>Not Applicable (Not Transported)</td>\n",
       "      <td>1</td>\n",
       "      <td>-9.826529e+06</td>\n",
       "      <td>3.569113e+06</td>\n",
       "    </tr>\n",
       "    <tr>\n",
       "      <th>2</th>\n",
       "      <td>3</td>\n",
       "      <td>1</td>\n",
       "      <td>Alabama</td>\n",
       "      <td>10003</td>\n",
       "      <td>0</td>\n",
       "      <td>0</td>\n",
       "      <td>1</td>\n",
       "      <td>1</td>\n",
       "      <td>0</td>\n",
       "      <td>1</td>\n",
       "      <td>...</td>\n",
       "      <td>11:00pm-11:59pm</td>\n",
       "      <td>8</td>\n",
       "      <td>8</td>\n",
       "      <td>88</td>\n",
       "      <td>Not Applicable (Not Transported)</td>\n",
       "      <td>88</td>\n",
       "      <td>Not Applicable (Not Transported)</td>\n",
       "      <td>1</td>\n",
       "      <td>-9.615313e+06</td>\n",
       "      <td>4.128378e+06</td>\n",
       "    </tr>\n",
       "    <tr>\n",
       "      <th>3</th>\n",
       "      <td>4</td>\n",
       "      <td>1</td>\n",
       "      <td>Alabama</td>\n",
       "      <td>10004</td>\n",
       "      <td>0</td>\n",
       "      <td>0</td>\n",
       "      <td>1</td>\n",
       "      <td>1</td>\n",
       "      <td>0</td>\n",
       "      <td>3</td>\n",
       "      <td>...</td>\n",
       "      <td>7:00pm-7:59pm</td>\n",
       "      <td>44</td>\n",
       "      <td>44</td>\n",
       "      <td>99</td>\n",
       "      <td>Unknown</td>\n",
       "      <td>99</td>\n",
       "      <td>Unknown EMS Hospital Arrival Time</td>\n",
       "      <td>1</td>\n",
       "      <td>-9.656598e+06</td>\n",
       "      <td>3.634669e+06</td>\n",
       "    </tr>\n",
       "    <tr>\n",
       "      <th>4</th>\n",
       "      <td>5</td>\n",
       "      <td>1</td>\n",
       "      <td>Alabama</td>\n",
       "      <td>10005</td>\n",
       "      <td>0</td>\n",
       "      <td>0</td>\n",
       "      <td>1</td>\n",
       "      <td>1</td>\n",
       "      <td>0</td>\n",
       "      <td>4</td>\n",
       "      <td>...</td>\n",
       "      <td>3:00pm-3:59pm</td>\n",
       "      <td>8</td>\n",
       "      <td>8</td>\n",
       "      <td>99</td>\n",
       "      <td>Unknown</td>\n",
       "      <td>99</td>\n",
       "      <td>Unknown EMS Hospital Arrival Time</td>\n",
       "      <td>1</td>\n",
       "      <td>-9.756463e+06</td>\n",
       "      <td>3.636309e+06</td>\n",
       "    </tr>\n",
       "  </tbody>\n",
       "</table>\n",
       "<p>5 rows × 83 columns</p>\n",
       "</div>"
      ],
      "text/plain": [
       "   OBJECTID  STATE STATENAME  ST_CASE  PEDS  PERNOTMVIT  VE_TOTAL  VE_FORMS  \\\n",
       "0         1      1   Alabama    10001     0           0         1         1   \n",
       "1         2      1   Alabama    10002     0           0         1         1   \n",
       "2         3      1   Alabama    10003     0           0         1         1   \n",
       "3         4      1   Alabama    10004     0           0         1         1   \n",
       "4         5      1   Alabama    10005     0           0         1         1   \n",
       "\n",
       "   PVH_INVL  PERSONS  ...     ARR_HOURNAME  ARR_MIN ARR_MINNAME  HOSP_HR  \\\n",
       "0         0        1  ...  10:00pm-10:59pm       45          45       88   \n",
       "1         0        1  ...    2:00am-2:59am       23          23       88   \n",
       "2         0        1  ...  11:00pm-11:59pm        8           8       88   \n",
       "3         0        3  ...    7:00pm-7:59pm       44          44       99   \n",
       "4         0        4  ...    3:00pm-3:59pm        8           8       99   \n",
       "\n",
       "                        HOSP_HRNAME  HOSP_MN  \\\n",
       "0  Not Applicable (Not Transported)       88   \n",
       "1  Not Applicable (Not Transported)       88   \n",
       "2  Not Applicable (Not Transported)       88   \n",
       "3                           Unknown       99   \n",
       "4                           Unknown       99   \n",
       "\n",
       "                         HOSP_MNNAME  FATALS             x             y  \n",
       "0   Not Applicable (Not Transported)       1 -9.633459e+06  3.753860e+06  \n",
       "1   Not Applicable (Not Transported)       1 -9.826529e+06  3.569113e+06  \n",
       "2   Not Applicable (Not Transported)       1 -9.615313e+06  4.128378e+06  \n",
       "3  Unknown EMS Hospital Arrival Time       1 -9.656598e+06  3.634669e+06  \n",
       "4  Unknown EMS Hospital Arrival Time       1 -9.756463e+06  3.636309e+06  \n",
       "\n",
       "[5 rows x 83 columns]"
      ]
     },
     "execution_count": 3,
     "metadata": {},
     "output_type": "execute_result"
    }
   ],
   "source": [
    "df = pd.read_csv('NTAD_Fatality_Analysis_Reporting_System_2023_Accidents_-1547396067495048743.csv')\n",
    "df.head()"
   ]
  },
  {
   "cell_type": "code",
   "execution_count": 6,
   "id": "34c11877",
   "metadata": {},
   "outputs": [],
   "source": [
    "def analyze_columns_with_uniques(df):\n",
    "    analysis = []\n",
    "    for column in df.columns:\n",
    "        col_data = df[column]\n",
    "        col_type = col_data.dtype\n",
    "        missing_percentage = col_data.isnull().mean() * 100\n",
    "        null_count = col_data.isnull().sum()\n",
    "        unique_values = col_data.nunique()\n",
    "        \n",
    "        if pd.api.types.is_numeric_dtype(col_data):\n",
    "            col_min = col_data.min()\n",
    "            col_max = col_data.max()\n",
    "            col_mean = col_data.mean()\n",
    "            col_median = col_data.median()\n",
    "            col_std = col_data.std()\n",
    "        else:\n",
    "            col_min = col_max = col_mean = col_median = col_std = None\n",
    "        \n",
    "        analysis.append({\n",
    "            'Column': column,\n",
    "            'Type': col_type,\n",
    "            'Missing Value (%)': missing_percentage,\n",
    "            'Null Value Count': null_count,\n",
    "            'Unique Values': unique_values,\n",
    "            'Min': col_min,\n",
    "            'Max': col_max,\n",
    "            'Mean': col_mean,\n",
    "            'Median': col_median,\n",
    "            'Std': col_std\n",
    "        })\n",
    "    \n",
    "    return pd.DataFrame(analysis)"
   ]
  },
  {
   "cell_type": "code",
   "execution_count": 8,
   "id": "d6ca926c",
   "metadata": {},
   "outputs": [],
   "source": [
    "anal = analyze_columns_with_uniques(df)\n",
    "anal.to_csv('analysis.csv', index=False)"
   ]
  },
  {
   "cell_type": "code",
   "execution_count": 14,
   "id": "8910c0ea",
   "metadata": {},
   "outputs": [
    {
     "data": {
      "text/plain": [
       "<bound method NDFrame.describe of        NOT_HOUR  NOT_MIN\n",
       "0            22       20\n",
       "1             2        8\n",
       "2            22       48\n",
       "3            19        0\n",
       "4            14       53\n",
       "...         ...      ...\n",
       "37946        99       98\n",
       "37947        99       98\n",
       "37948        99       98\n",
       "37949        11       43\n",
       "37950        99       98\n",
       "\n",
       "[37951 rows x 2 columns]>"
      ]
     },
     "execution_count": 14,
     "metadata": {},
     "output_type": "execute_result"
    }
   ],
   "source": [
    "df[[\"NOT_HOUR\", \"NOT_MIN\"]].describe"
   ]
  },
  {
   "cell_type": "code",
   "execution_count": 15,
   "id": "8bdd633d",
   "metadata": {},
   "outputs": [],
   "source": [
    "df['date'] = pd.to_datetime({\n",
    "    'year': df['YEAR'],\n",
    "    'month': df['MONTH'],\n",
    "    'day': df['DAY'],\n",
    "    # 'hour': df['time hr'],\n",
    "    # 'minute': df['time min']\n",
    "})"
   ]
  },
  {
   "cell_type": "code",
   "execution_count": 16,
   "id": "a730f633",
   "metadata": {},
   "outputs": [
    {
     "data": {
      "text/plain": [
       "0       2023-01-04\n",
       "1       2023-03-20\n",
       "2       2023-03-18\n",
       "3       2023-03-17\n",
       "4       2023-03-17\n",
       "           ...    \n",
       "37946   2023-06-22\n",
       "37947   2023-07-30\n",
       "37948   2023-09-15\n",
       "37949   2023-09-23\n",
       "37950   2023-12-04\n",
       "Name: date, Length: 37951, dtype: datetime64[ns]"
      ]
     },
     "execution_count": 16,
     "metadata": {},
     "output_type": "execute_result"
    }
   ],
   "source": [
    "df['date']"
   ]
  },
  {
   "cell_type": "code",
   "execution_count": null,
   "id": "d556021a",
   "metadata": {},
   "outputs": [],
   "source": []
  },
  {
   "cell_type": "code",
   "execution_count": null,
   "id": "74121aa9",
   "metadata": {},
   "outputs": [
    {
     "data": {
      "application/vnd.plotly.v1+json": {
       "config": {
        "plotlyServerURL": "https://plot.ly"
       },
       "data": [
        {
         "alignmentgroup": "True",
         "hovertemplate": "NOT_HOUR Category=%{x}<br>Count=%{y}<br>text=%{text}<extra></extra>",
         "legendgroup": "",
         "marker": {
          "color": "#636efa",
          "pattern": {
           "shape": ""
          }
         },
         "name": "",
         "offsetgroup": "",
         "orientation": "v",
         "showlegend": false,
         "text": [
          "0.3%",
          "53.1%",
          "46.6%"
         ],
         "textposition": "outside",
         "type": "bar",
         "x": [
          "Not Applicable",
          "Unknown EMS Notification Time",
          "Valid Military Times"
         ],
         "xaxis": "x",
         "y": [
          131,
          20148,
          17672
         ],
         "yaxis": "y"
        }
       ],
       "layout": {
        "barmode": "relative",
        "legend": {
         "tracegroupgap": 0
        },
        "template": {
         "data": {
          "bar": [
           {
            "error_x": {
             "color": "#2a3f5f"
            },
            "error_y": {
             "color": "#2a3f5f"
            },
            "marker": {
             "line": {
              "color": "#E5ECF6",
              "width": 0.5
             },
             "pattern": {
              "fillmode": "overlay",
              "size": 10,
              "solidity": 0.2
             }
            },
            "type": "bar"
           }
          ],
          "barpolar": [
           {
            "marker": {
             "line": {
              "color": "#E5ECF6",
              "width": 0.5
             },
             "pattern": {
              "fillmode": "overlay",
              "size": 10,
              "solidity": 0.2
             }
            },
            "type": "barpolar"
           }
          ],
          "carpet": [
           {
            "aaxis": {
             "endlinecolor": "#2a3f5f",
             "gridcolor": "white",
             "linecolor": "white",
             "minorgridcolor": "white",
             "startlinecolor": "#2a3f5f"
            },
            "baxis": {
             "endlinecolor": "#2a3f5f",
             "gridcolor": "white",
             "linecolor": "white",
             "minorgridcolor": "white",
             "startlinecolor": "#2a3f5f"
            },
            "type": "carpet"
           }
          ],
          "choropleth": [
           {
            "colorbar": {
             "outlinewidth": 0,
             "ticks": ""
            },
            "type": "choropleth"
           }
          ],
          "contour": [
           {
            "colorbar": {
             "outlinewidth": 0,
             "ticks": ""
            },
            "colorscale": [
             [
              0,
              "#0d0887"
             ],
             [
              0.1111111111111111,
              "#46039f"
             ],
             [
              0.2222222222222222,
              "#7201a8"
             ],
             [
              0.3333333333333333,
              "#9c179e"
             ],
             [
              0.4444444444444444,
              "#bd3786"
             ],
             [
              0.5555555555555556,
              "#d8576b"
             ],
             [
              0.6666666666666666,
              "#ed7953"
             ],
             [
              0.7777777777777778,
              "#fb9f3a"
             ],
             [
              0.8888888888888888,
              "#fdca26"
             ],
             [
              1,
              "#f0f921"
             ]
            ],
            "type": "contour"
           }
          ],
          "contourcarpet": [
           {
            "colorbar": {
             "outlinewidth": 0,
             "ticks": ""
            },
            "type": "contourcarpet"
           }
          ],
          "heatmap": [
           {
            "colorbar": {
             "outlinewidth": 0,
             "ticks": ""
            },
            "colorscale": [
             [
              0,
              "#0d0887"
             ],
             [
              0.1111111111111111,
              "#46039f"
             ],
             [
              0.2222222222222222,
              "#7201a8"
             ],
             [
              0.3333333333333333,
              "#9c179e"
             ],
             [
              0.4444444444444444,
              "#bd3786"
             ],
             [
              0.5555555555555556,
              "#d8576b"
             ],
             [
              0.6666666666666666,
              "#ed7953"
             ],
             [
              0.7777777777777778,
              "#fb9f3a"
             ],
             [
              0.8888888888888888,
              "#fdca26"
             ],
             [
              1,
              "#f0f921"
             ]
            ],
            "type": "heatmap"
           }
          ],
          "heatmapgl": [
           {
            "colorbar": {
             "outlinewidth": 0,
             "ticks": ""
            },
            "colorscale": [
             [
              0,
              "#0d0887"
             ],
             [
              0.1111111111111111,
              "#46039f"
             ],
             [
              0.2222222222222222,
              "#7201a8"
             ],
             [
              0.3333333333333333,
              "#9c179e"
             ],
             [
              0.4444444444444444,
              "#bd3786"
             ],
             [
              0.5555555555555556,
              "#d8576b"
             ],
             [
              0.6666666666666666,
              "#ed7953"
             ],
             [
              0.7777777777777778,
              "#fb9f3a"
             ],
             [
              0.8888888888888888,
              "#fdca26"
             ],
             [
              1,
              "#f0f921"
             ]
            ],
            "type": "heatmapgl"
           }
          ],
          "histogram": [
           {
            "marker": {
             "pattern": {
              "fillmode": "overlay",
              "size": 10,
              "solidity": 0.2
             }
            },
            "type": "histogram"
           }
          ],
          "histogram2d": [
           {
            "colorbar": {
             "outlinewidth": 0,
             "ticks": ""
            },
            "colorscale": [
             [
              0,
              "#0d0887"
             ],
             [
              0.1111111111111111,
              "#46039f"
             ],
             [
              0.2222222222222222,
              "#7201a8"
             ],
             [
              0.3333333333333333,
              "#9c179e"
             ],
             [
              0.4444444444444444,
              "#bd3786"
             ],
             [
              0.5555555555555556,
              "#d8576b"
             ],
             [
              0.6666666666666666,
              "#ed7953"
             ],
             [
              0.7777777777777778,
              "#fb9f3a"
             ],
             [
              0.8888888888888888,
              "#fdca26"
             ],
             [
              1,
              "#f0f921"
             ]
            ],
            "type": "histogram2d"
           }
          ],
          "histogram2dcontour": [
           {
            "colorbar": {
             "outlinewidth": 0,
             "ticks": ""
            },
            "colorscale": [
             [
              0,
              "#0d0887"
             ],
             [
              0.1111111111111111,
              "#46039f"
             ],
             [
              0.2222222222222222,
              "#7201a8"
             ],
             [
              0.3333333333333333,
              "#9c179e"
             ],
             [
              0.4444444444444444,
              "#bd3786"
             ],
             [
              0.5555555555555556,
              "#d8576b"
             ],
             [
              0.6666666666666666,
              "#ed7953"
             ],
             [
              0.7777777777777778,
              "#fb9f3a"
             ],
             [
              0.8888888888888888,
              "#fdca26"
             ],
             [
              1,
              "#f0f921"
             ]
            ],
            "type": "histogram2dcontour"
           }
          ],
          "mesh3d": [
           {
            "colorbar": {
             "outlinewidth": 0,
             "ticks": ""
            },
            "type": "mesh3d"
           }
          ],
          "parcoords": [
           {
            "line": {
             "colorbar": {
              "outlinewidth": 0,
              "ticks": ""
             }
            },
            "type": "parcoords"
           }
          ],
          "pie": [
           {
            "automargin": true,
            "type": "pie"
           }
          ],
          "scatter": [
           {
            "fillpattern": {
             "fillmode": "overlay",
             "size": 10,
             "solidity": 0.2
            },
            "type": "scatter"
           }
          ],
          "scatter3d": [
           {
            "line": {
             "colorbar": {
              "outlinewidth": 0,
              "ticks": ""
             }
            },
            "marker": {
             "colorbar": {
              "outlinewidth": 0,
              "ticks": ""
             }
            },
            "type": "scatter3d"
           }
          ],
          "scattercarpet": [
           {
            "marker": {
             "colorbar": {
              "outlinewidth": 0,
              "ticks": ""
             }
            },
            "type": "scattercarpet"
           }
          ],
          "scattergeo": [
           {
            "marker": {
             "colorbar": {
              "outlinewidth": 0,
              "ticks": ""
             }
            },
            "type": "scattergeo"
           }
          ],
          "scattergl": [
           {
            "marker": {
             "colorbar": {
              "outlinewidth": 0,
              "ticks": ""
             }
            },
            "type": "scattergl"
           }
          ],
          "scattermapbox": [
           {
            "marker": {
             "colorbar": {
              "outlinewidth": 0,
              "ticks": ""
             }
            },
            "type": "scattermapbox"
           }
          ],
          "scatterpolar": [
           {
            "marker": {
             "colorbar": {
              "outlinewidth": 0,
              "ticks": ""
             }
            },
            "type": "scatterpolar"
           }
          ],
          "scatterpolargl": [
           {
            "marker": {
             "colorbar": {
              "outlinewidth": 0,
              "ticks": ""
             }
            },
            "type": "scatterpolargl"
           }
          ],
          "scatterternary": [
           {
            "marker": {
             "colorbar": {
              "outlinewidth": 0,
              "ticks": ""
             }
            },
            "type": "scatterternary"
           }
          ],
          "surface": [
           {
            "colorbar": {
             "outlinewidth": 0,
             "ticks": ""
            },
            "colorscale": [
             [
              0,
              "#0d0887"
             ],
             [
              0.1111111111111111,
              "#46039f"
             ],
             [
              0.2222222222222222,
              "#7201a8"
             ],
             [
              0.3333333333333333,
              "#9c179e"
             ],
             [
              0.4444444444444444,
              "#bd3786"
             ],
             [
              0.5555555555555556,
              "#d8576b"
             ],
             [
              0.6666666666666666,
              "#ed7953"
             ],
             [
              0.7777777777777778,
              "#fb9f3a"
             ],
             [
              0.8888888888888888,
              "#fdca26"
             ],
             [
              1,
              "#f0f921"
             ]
            ],
            "type": "surface"
           }
          ],
          "table": [
           {
            "cells": {
             "fill": {
              "color": "#EBF0F8"
             },
             "line": {
              "color": "white"
             }
            },
            "header": {
             "fill": {
              "color": "#C8D4E3"
             },
             "line": {
              "color": "white"
             }
            },
            "type": "table"
           }
          ]
         },
         "layout": {
          "annotationdefaults": {
           "arrowcolor": "#2a3f5f",
           "arrowhead": 0,
           "arrowwidth": 1
          },
          "autotypenumbers": "strict",
          "coloraxis": {
           "colorbar": {
            "outlinewidth": 0,
            "ticks": ""
           }
          },
          "colorscale": {
           "diverging": [
            [
             0,
             "#8e0152"
            ],
            [
             0.1,
             "#c51b7d"
            ],
            [
             0.2,
             "#de77ae"
            ],
            [
             0.3,
             "#f1b6da"
            ],
            [
             0.4,
             "#fde0ef"
            ],
            [
             0.5,
             "#f7f7f7"
            ],
            [
             0.6,
             "#e6f5d0"
            ],
            [
             0.7,
             "#b8e186"
            ],
            [
             0.8,
             "#7fbc41"
            ],
            [
             0.9,
             "#4d9221"
            ],
            [
             1,
             "#276419"
            ]
           ],
           "sequential": [
            [
             0,
             "#0d0887"
            ],
            [
             0.1111111111111111,
             "#46039f"
            ],
            [
             0.2222222222222222,
             "#7201a8"
            ],
            [
             0.3333333333333333,
             "#9c179e"
            ],
            [
             0.4444444444444444,
             "#bd3786"
            ],
            [
             0.5555555555555556,
             "#d8576b"
            ],
            [
             0.6666666666666666,
             "#ed7953"
            ],
            [
             0.7777777777777778,
             "#fb9f3a"
            ],
            [
             0.8888888888888888,
             "#fdca26"
            ],
            [
             1,
             "#f0f921"
            ]
           ],
           "sequentialminus": [
            [
             0,
             "#0d0887"
            ],
            [
             0.1111111111111111,
             "#46039f"
            ],
            [
             0.2222222222222222,
             "#7201a8"
            ],
            [
             0.3333333333333333,
             "#9c179e"
            ],
            [
             0.4444444444444444,
             "#bd3786"
            ],
            [
             0.5555555555555556,
             "#d8576b"
            ],
            [
             0.6666666666666666,
             "#ed7953"
            ],
            [
             0.7777777777777778,
             "#fb9f3a"
            ],
            [
             0.8888888888888888,
             "#fdca26"
            ],
            [
             1,
             "#f0f921"
            ]
           ]
          },
          "colorway": [
           "#636efa",
           "#EF553B",
           "#00cc96",
           "#ab63fa",
           "#FFA15A",
           "#19d3f3",
           "#FF6692",
           "#B6E880",
           "#FF97FF",
           "#FECB52"
          ],
          "font": {
           "color": "#2a3f5f"
          },
          "geo": {
           "bgcolor": "white",
           "lakecolor": "white",
           "landcolor": "#E5ECF6",
           "showlakes": true,
           "showland": true,
           "subunitcolor": "white"
          },
          "hoverlabel": {
           "align": "left"
          },
          "hovermode": "closest",
          "mapbox": {
           "style": "light"
          },
          "paper_bgcolor": "white",
          "plot_bgcolor": "#E5ECF6",
          "polar": {
           "angularaxis": {
            "gridcolor": "white",
            "linecolor": "white",
            "ticks": ""
           },
           "bgcolor": "#E5ECF6",
           "radialaxis": {
            "gridcolor": "white",
            "linecolor": "white",
            "ticks": ""
           }
          },
          "scene": {
           "xaxis": {
            "backgroundcolor": "#E5ECF6",
            "gridcolor": "white",
            "gridwidth": 2,
            "linecolor": "white",
            "showbackground": true,
            "ticks": "",
            "zerolinecolor": "white"
           },
           "yaxis": {
            "backgroundcolor": "#E5ECF6",
            "gridcolor": "white",
            "gridwidth": 2,
            "linecolor": "white",
            "showbackground": true,
            "ticks": "",
            "zerolinecolor": "white"
           },
           "zaxis": {
            "backgroundcolor": "#E5ECF6",
            "gridcolor": "white",
            "gridwidth": 2,
            "linecolor": "white",
            "showbackground": true,
            "ticks": "",
            "zerolinecolor": "white"
           }
          },
          "shapedefaults": {
           "line": {
            "color": "#2a3f5f"
           }
          },
          "ternary": {
           "aaxis": {
            "gridcolor": "white",
            "linecolor": "white",
            "ticks": ""
           },
           "baxis": {
            "gridcolor": "white",
            "linecolor": "white",
            "ticks": ""
           },
           "bgcolor": "#E5ECF6",
           "caxis": {
            "gridcolor": "white",
            "linecolor": "white",
            "ticks": ""
           }
          },
          "title": {
           "x": 0.05
          },
          "xaxis": {
           "automargin": true,
           "gridcolor": "white",
           "linecolor": "white",
           "ticks": "",
           "title": {
            "standoff": 15
           },
           "zerolinecolor": "white",
           "zerolinewidth": 2
          },
          "yaxis": {
           "automargin": true,
           "gridcolor": "white",
           "linecolor": "white",
           "ticks": "",
           "title": {
            "standoff": 15
           },
           "zerolinecolor": "white",
           "zerolinewidth": 2
          }
         }
        },
        "title": {
         "text": "Distribution of NOT_HOUR Categories"
        },
        "xaxis": {
         "anchor": "y",
         "domain": [
          0,
          1
         ],
         "title": {
          "text": "NOT_HOUR Category"
         }
        },
        "yaxis": {
         "anchor": "x",
         "domain": [
          0,
          1
         ],
         "title": {
          "text": "Count"
         }
        }
       }
      }
     },
     "metadata": {},
     "output_type": "display_data"
    }
   ],
   "source": [
    "# ...existing code...\n",
    "\n",
    "import plotly.express as px\n",
    "\n",
    "def categorize_not_hour(val):\n",
    "    if 0 <= val <= 23:\n",
    "        return 'Valid Military Times'\n",
    "    elif 99 <= val <= 23:\n",
    "        return 'Known Hours, Unknown Minutes'\n",
    "    elif val == 88:\n",
    "        return 'Not Applicable (Not Notified)'\n",
    "    elif val == 9998 or val == 98:\n",
    "        return 'Unknown if Notified'\n",
    "    elif val == 99 or val == 9999:\n",
    "        return 'Unknown EMS Notification Time'\n",
    "    else:\n",
    "        return 'Other'\n",
    "\n",
    "not_hour_cat = df['NOT_HOUR'].apply(categorize_not_hour)\n",
    "cat_counts = not_hour_cat.value_counts().sort_index()\n",
    "cat_percents = 100 * cat_counts / len(df)\n",
    "\n",
    "fig = px.bar(\n",
    "    x=cat_counts.index,\n",
    "    y=cat_counts.values,\n",
    "    labels={'x': 'NOT_HOUR Category', 'y': 'Count'},\n",
    "    title='Distribution of NOT_HOUR Categories',\n",
    "    text=[f\"{p:.1f}%\" for p in cat_percents]\n",
    ")\n",
    "fig.update_traces(textposition='outside')\n",
    "fig.show()\n",
    "# ...existing code..."
   ]
  },
  {
   "cell_type": "code",
   "execution_count": 27,
   "id": "ef72ca89",
   "metadata": {},
   "outputs": [
    {
     "name": "stdout",
     "output_type": "stream",
     "text": [
      "                        NOT_HOUR  Count    Percent\n",
      "0  Not Applicable (Not Notified)    131   0.345182\n",
      "1  Unknown EMS Notification Time  20148  53.089510\n",
      "2           Valid Military Times  17672  46.565308\n"
     ]
    }
   ],
   "source": [
    "# ...existing code...\n",
    "\n",
    "def categorize_not_hour(val):\n",
    "    if 0 <= val <= 23:\n",
    "        return 'Valid Military Times'\n",
    "    elif 99 <= val <= 23:\n",
    "        return 'Known Hours, Unknown Minutes'\n",
    "    elif val == 88:\n",
    "        return 'Not Applicable (Not Notified)'\n",
    "    elif val == 9998 or val == 98:\n",
    "        return 'Unknown if Notified'\n",
    "    elif val == 99 or val == 9999:\n",
    "        return 'Unknown EMS Notification Time'\n",
    "    else:\n",
    "        return 'Other'\n",
    "\n",
    "not_hour_cat = df['NOT_HOUR'].apply(categorize_not_hour)\n",
    "cat_counts = not_hour_cat.value_counts().sort_index()\n",
    "cat_percents = 100 * cat_counts / len(df)\n",
    "\n",
    "# Combine into a DataFrame for easy viewing\n",
    "category_stats = pd.DataFrame({\n",
    "    'Count': cat_counts,\n",
    "    'Percent': cat_percents\n",
    "}).reset_index().rename(columns={'index': 'Category'})\n",
    "\n",
    "print(category_stats)\n",
    "# ...existing code..."
   ]
  },
  {
   "cell_type": "code",
   "execution_count": null,
   "id": "2cd42b0d",
   "metadata": {},
   "outputs": [
    {
     "data": {
      "image/png": "[encoded data removed]",
      "text/plain": [
       "<Figure size 640x480 with 1 Axes>"
      ]
     },
     "metadata": {},
     "output_type": "display_data"
    }
   ],
   "source": [
    "ax = df[\"NOT_HOUR\"].value_counts().sort_index().plot(kind=' bar', title='Distribution of NOT_HOUR')\n",
    "for p in ax.patches:\n",
    "    ax.annotate(str(int(p.get_height())), (p.get_x() + p.get_width() / 2, p.get_height()),\n",
    "                ha='center', va='bottom', fontsize=8, rotation=90)"
   ]
  },
  {
   "cell_type": "code",
   "execution_count": 28,
   "id": "2b2e09fa",
   "metadata": {},
   "outputs": [
    {
     "data": {
      "application/vnd.plotly.v1+json": {
       "config": {
        "plotlyServerURL": "https://plot.ly"
       },
       "data": [
        {
         "alignmentgroup": "True",
         "hovertemplate": "NOT_MIN Category=%{x}<br>Count=%{y}<br>text=%{text}<extra></extra>",
         "legendgroup": "",
         "marker": {
          "color": "#636efa",
          "pattern": {
           "shape": ""
          }
         },
         "name": "",
         "offsetgroup": "",
         "orientation": "v",
         "showlegend": false,
         "text": [
          "0.3%",
          "47.3%",
          "8.4%",
          "44.0%"
         ],
         "textposition": "outside",
         "type": "bar",
         "x": [
          "Not Applicable (Not Notified)",
          "Unknown Minutes",
          "Unknown if Notified",
          "Valid Military Times"
         ],
         "xaxis": "x",
         "y": [
          131,
          17943,
          3185,
          16692
         ],
         "yaxis": "y"
        }
       ],
       "layout": {
        "barmode": "relative",
        "legend": {
         "tracegroupgap": 0
        },
        "template": {
         "data": {
          "bar": [
           {
            "error_x": {
             "color": "#2a3f5f"
            },
            "error_y": {
             "color": "#2a3f5f"
            },
            "marker": {
             "line": {
              "color": "#E5ECF6",
              "width": 0.5
             },
             "pattern": {
              "fillmode": "overlay",
              "size": 10,
              "solidity": 0.2
             }
            },
            "type": "bar"
           }
          ],
          "barpolar": [
           {
            "marker": {
             "line": {
              "color": "#E5ECF6",
              "width": 0.5
             },
             "pattern": {
              "fillmode": "overlay",
              "size": 10,
              "solidity": 0.2
             }
            },
            "type": "barpolar"
           }
          ],
          "carpet": [
           {
            "aaxis": {
             "endlinecolor": "#2a3f5f",
             "gridcolor": "white",
             "linecolor": "white",
             "minorgridcolor": "white",
             "startlinecolor": "#2a3f5f"
            },
            "baxis": {
             "endlinecolor": "#2a3f5f",
             "gridcolor": "white",
             "linecolor": "white",
             "minorgridcolor": "white",
             "startlinecolor": "#2a3f5f"
            },
            "type": "carpet"
           }
          ],
          "choropleth": [
           {
            "colorbar": {
             "outlinewidth": 0,
             "ticks": ""
            },
            "type": "choropleth"
           }
          ],
          "contour": [
           {
            "colorbar": {
             "outlinewidth": 0,
             "ticks": ""
            },
            "colorscale": [
             [
              0,
              "#0d0887"
             ],
             [
              0.1111111111111111,
              "#46039f"
             ],
             [
              0.2222222222222222,
              "#7201a8"
             ],
             [
              0.3333333333333333,
              "#9c179e"
             ],
             [
              0.4444444444444444,
              "#bd3786"
             ],
             [
              0.5555555555555556,
              "#d8576b"
             ],
             [
              0.6666666666666666,
              "#ed7953"
             ],
             [
              0.7777777777777778,
              "#fb9f3a"
             ],
             [
              0.8888888888888888,
              "#fdca26"
             ],
             [
              1,
              "#f0f921"
             ]
            ],
            "type": "contour"
           }
          ],
          "contourcarpet": [
           {
            "colorbar": {
             "outlinewidth": 0,
             "ticks": ""
            },
            "type": "contourcarpet"
           }
          ],
          "heatmap": [
           {
            "colorbar": {
             "outlinewidth": 0,
             "ticks": ""
            },
            "colorscale": [
             [
              0,
              "#0d0887"
             ],
             [
              0.1111111111111111,
              "#46039f"
             ],
             [
              0.2222222222222222,
              "#7201a8"
             ],
             [
              0.3333333333333333,
              "#9c179e"
             ],
             [
              0.4444444444444444,
              "#bd3786"
             ],
             [
              0.5555555555555556,
              "#d8576b"
             ],
             [
              0.6666666666666666,
              "#ed7953"
             ],
             [
              0.7777777777777778,
              "#fb9f3a"
             ],
             [
              0.8888888888888888,
              "#fdca26"
             ],
             [
              1,
              "#f0f921"
             ]
            ],
            "type": "heatmap"
           }
          ],
          "heatmapgl": [
           {
            "colorbar": {
             "outlinewidth": 0,
             "ticks": ""
            },
            "colorscale": [
             [
              0,
              "#0d0887"
             ],
             [
              0.1111111111111111,
              "#46039f"
             ],
             [
              0.2222222222222222,
              "#7201a8"
             ],
             [
              0.3333333333333333,
              "#9c179e"
             ],
             [
              0.4444444444444444,
              "#bd3786"
             ],
             [
              0.5555555555555556,
              "#d8576b"
             ],
             [
              0.6666666666666666,
              "#ed7953"
             ],
             [
              0.7777777777777778,
              "#fb9f3a"
             ],
             [
              0.8888888888888888,
              "#fdca26"
             ],
             [
              1,
              "#f0f921"
             ]
            ],
            "type": "heatmapgl"
           }
          ],
          "histogram": [
           {
            "marker": {
             "pattern": {
              "fillmode": "overlay",
              "size": 10,
              "solidity": 0.2
             }
            },
            "type": "histogram"
           }
          ],
          "histogram2d": [
           {
            "colorbar": {
             "outlinewidth": 0,
             "ticks": ""
            },
            "colorscale": [
             [
              0,
              "#0d0887"
             ],
             [
              0.1111111111111111,
              "#46039f"
             ],
             [
              0.2222222222222222,
              "#7201a8"
             ],
             [
              0.3333333333333333,
              "#9c179e"
             ],
             [
              0.4444444444444444,
              "#bd3786"
             ],
             [
              0.5555555555555556,
              "#d8576b"
             ],
             [
              0.6666666666666666,
              "#ed7953"
             ],
             [
              0.7777777777777778,
              "#fb9f3a"
             ],
             [
              0.8888888888888888,
              "#fdca26"
             ],
             [
              1,
              "#f0f921"
             ]
            ],
            "type": "histogram2d"
           }
          ],
          "histogram2dcontour": [
           {
            "colorbar": {
             "outlinewidth": 0,
             "ticks": ""
            },
            "colorscale": [
             [
              0,
              "#0d0887"
             ],
             [
              0.1111111111111111,
              "#46039f"
             ],
             [
              0.2222222222222222,
              "#7201a8"
             ],
             [
              0.3333333333333333,
              "#9c179e"
             ],
             [
              0.4444444444444444,
              "#bd3786"
             ],
             [
              0.5555555555555556,
              "#d8576b"
             ],
             [
              0.6666666666666666,
              "#ed7953"
             ],
             [
              0.7777777777777778,
              "#fb9f3a"
             ],
             [
              0.8888888888888888,
              "#fdca26"
             ],
             [
              1,
              "#f0f921"
             ]
            ],
            "type": "histogram2dcontour"
           }
          ],
          "mesh3d": [
           {
            "colorbar": {
             "outlinewidth": 0,
             "ticks": ""
            },
            "type": "mesh3d"
           }
          ],
          "parcoords": [
           {
            "line": {
             "colorbar": {
              "outlinewidth": 0,
              "ticks": ""
             }
            },
            "type": "parcoords"
           }
          ],
          "pie": [
           {
            "automargin": true,
            "type": "pie"
           }
          ],
          "scatter": [
           {
            "fillpattern": {
             "fillmode": "overlay",
             "size": 10,
             "solidity": 0.2
            },
            "type": "scatter"
           }
          ],
          "scatter3d": [
           {
            "line": {
             "colorbar": {
              "outlinewidth": 0,
              "ticks": ""
             }
            },
            "marker": {
             "colorbar": {
              "outlinewidth": 0,
              "ticks": ""
             }
            },
            "type": "scatter3d"
           }
          ],
          "scattercarpet": [
           {
            "marker": {
             "colorbar": {
              "outlinewidth": 0,
              "ticks": ""
             }
            },
            "type": "scattercarpet"
           }
          ],
          "scattergeo": [
           {
            "marker": {
             "colorbar": {
              "outlinewidth": 0,
              "ticks": ""
             }
            },
            "type": "scattergeo"
           }
          ],
          "scattergl": [
           {
            "marker": {
             "colorbar": {
              "outlinewidth": 0,
              "ticks": ""
             }
            },
            "type": "scattergl"
           }
          ],
          "scattermapbox": [
           {
            "marker": {
             "colorbar": {
              "outlinewidth": 0,
              "ticks": ""
             }
            },
            "type": "scattermapbox"
           }
          ],
          "scatterpolar": [
           {
            "marker": {
             "colorbar": {
              "outlinewidth": 0,
              "ticks": ""
             }
            },
            "type": "scatterpolar"
           }
          ],
          "scatterpolargl": [
           {
            "marker": {
             "colorbar": {
              "outlinewidth": 0,
              "ticks": ""
             }
            },
            "type": "scatterpolargl"
           }
          ],
          "scatterternary": [
           {
            "marker": {
             "colorbar": {
              "outlinewidth": 0,
              "ticks": ""
             }
            },
            "type": "scatterternary"
           }
          ],
          "surface": [
           {
            "colorbar": {
             "outlinewidth": 0,
             "ticks": ""
            },
            "colorscale": [
             [
              0,
              "#0d0887"
             ],
             [
              0.1111111111111111,
              "#46039f"
             ],
             [
              0.2222222222222222,
              "#7201a8"
             ],
             [
              0.3333333333333333,
              "#9c179e"
             ],
             [
              0.4444444444444444,
              "#bd3786"
             ],
             [
              0.5555555555555556,
              "#d8576b"
             ],
             [
              0.6666666666666666,
              "#ed7953"
             ],
             [
              0.7777777777777778,
              "#fb9f3a"
             ],
             [
              0.8888888888888888,
              "#fdca26"
             ],
             [
              1,
              "#f0f921"
             ]
            ],
            "type": "surface"
           }
          ],
          "table": [
           {
            "cells": {
             "fill": {
              "color": "#EBF0F8"
             },
             "line": {
              "color": "white"
             }
            },
            "header": {
             "fill": {
              "color": "#C8D4E3"
             },
             "line": {
              "color": "white"
             }
            },
            "type": "table"
           }
          ]
         },
         "layout": {
          "annotationdefaults": {
           "arrowcolor": "#2a3f5f",
           "arrowhead": 0,
           "arrowwidth": 1
          },
          "autotypenumbers": "strict",
          "coloraxis": {
           "colorbar": {
            "outlinewidth": 0,
            "ticks": ""
           }
          },
          "colorscale": {
           "diverging": [
            [
             0,
             "#8e0152"
            ],
            [
             0.1,
             "#c51b7d"
            ],
            [
             0.2,
             "#de77ae"
            ],
            [
             0.3,
             "#f1b6da"
            ],
            [
             0.4,
             "#fde0ef"
            ],
            [
             0.5,
             "#f7f7f7"
            ],
            [
             0.6,
             "#e6f5d0"
            ],
            [
             0.7,
             "#b8e186"
            ],
            [
             0.8,
             "#7fbc41"
            ],
            [
             0.9,
             "#4d9221"
            ],
            [
             1,
             "#276419"
            ]
           ],
           "sequential": [
            [
             0,
             "#0d0887"
            ],
            [
             0.1111111111111111,
             "#46039f"
            ],
            [
             0.2222222222222222,
             "#7201a8"
            ],
            [
             0.3333333333333333,
             "#9c179e"
            ],
            [
             0.4444444444444444,
             "#bd3786"
            ],
            [
             0.5555555555555556,
             "#d8576b"
            ],
            [
             0.6666666666666666,
             "#ed7953"
            ],
            [
             0.7777777777777778,
             "#fb9f3a"
            ],
            [
             0.8888888888888888,
             "#fdca26"
            ],
            [
             1,
             "#f0f921"
            ]
           ],
           "sequentialminus": [
            [
             0,
             "#0d0887"
            ],
            [
             0.1111111111111111,
             "#46039f"
            ],
            [
             0.2222222222222222,
             "#7201a8"
            ],
            [
             0.3333333333333333,
             "#9c179e"
            ],
            [
             0.4444444444444444,
             "#bd3786"
            ],
            [
             0.5555555555555556,
             "#d8576b"
            ],
            [
             0.6666666666666666,
             "#ed7953"
            ],
            [
             0.7777777777777778,
             "#fb9f3a"
            ],
            [
             0.8888888888888888,
             "#fdca26"
            ],
            [
             1,
             "#f0f921"
            ]
           ]
          },
          "colorway": [
           "#636efa",
           "#EF553B",
           "#00cc96",
           "#ab63fa",
           "#FFA15A",
           "#19d3f3",
           "#FF6692",
           "#B6E880",
           "#FF97FF",
           "#FECB52"
          ],
          "font": {
           "color": "#2a3f5f"
          },
          "geo": {
           "bgcolor": "white",
           "lakecolor": "white",
           "landcolor": "#E5ECF6",
           "showlakes": true,
           "showland": true,
           "subunitcolor": "white"
          },
          "hoverlabel": {
           "align": "left"
          },
          "hovermode": "closest",
          "mapbox": {
           "style": "light"
          },
          "paper_bgcolor": "white",
          "plot_bgcolor": "#E5ECF6",
          "polar": {
           "angularaxis": {
            "gridcolor": "white",
            "linecolor": "white",
            "ticks": ""
           },
           "bgcolor": "#E5ECF6",
           "radialaxis": {
            "gridcolor": "white",
            "linecolor": "white",
            "ticks": ""
           }
          },
          "scene": {
           "xaxis": {
            "backgroundcolor": "#E5ECF6",
            "gridcolor": "white",
            "gridwidth": 2,
            "linecolor": "white",
            "showbackground": true,
            "ticks": "",
            "zerolinecolor": "white"
           },
           "yaxis": {
            "backgroundcolor": "#E5ECF6",
            "gridcolor": "white",
            "gridwidth": 2,
            "linecolor": "white",
            "showbackground": true,
            "ticks": "",
            "zerolinecolor": "white"
           },
           "zaxis": {
            "backgroundcolor": "#E5ECF6",
            "gridcolor": "white",
            "gridwidth": 2,
            "linecolor": "white",
            "showbackground": true,
            "ticks": "",
            "zerolinecolor": "white"
           }
          },
          "shapedefaults": {
           "line": {
            "color": "#2a3f5f"
           }
          },
          "ternary": {
           "aaxis": {
            "gridcolor": "white",
            "linecolor": "white",
            "ticks": ""
           },
           "baxis": {
            "gridcolor": "white",
            "linecolor": "white",
            "ticks": ""
           },
           "bgcolor": "#E5ECF6",
           "caxis": {
            "gridcolor": "white",
            "linecolor": "white",
            "ticks": ""
           }
          },
          "title": {
           "x": 0.05
          },
          "xaxis": {
           "automargin": true,
           "gridcolor": "white",
           "linecolor": "white",
           "ticks": "",
           "title": {
            "standoff": 15
           },
           "zerolinecolor": "white",
           "zerolinewidth": 2
          },
          "yaxis": {
           "automargin": true,
           "gridcolor": "white",
           "linecolor": "white",
           "ticks": "",
           "title": {
            "standoff": 15
           },
           "zerolinecolor": "white",
           "zerolinewidth": 2
          }
         }
        },
        "title": {
         "text": "Distribution of NOT_MIN Categories"
        },
        "xaxis": {
         "anchor": "y",
         "domain": [
          0,
          1
         ],
         "title": {
          "text": "NOT_MIN Category"
         }
        },
        "yaxis": {
         "anchor": "x",
         "domain": [
          0,
          1
         ],
         "title": {
          "text": "Count"
         }
        }
       }
      }
     },
     "metadata": {},
     "output_type": "display_data"
    }
   ],
   "source": [
    "# ...existing code...\n",
    "\n",
    "import plotly.express as px\n",
    "\n",
    "def categorize_not_hour(val):\n",
    "    if 0 <= val <= 60:\n",
    "        return 'Valid Military Times'\n",
    "    # elif 60 <= val <= 23:\n",
    "    #     return 'Known Hours, Unknown Minutes'\n",
    "    elif val == 88:\n",
    "        return 'Not Applicable (Not Notified)'\n",
    "    elif val == 9998 or val == 98:\n",
    "        return 'Unknown if Notified'\n",
    "    elif val == 99 or val == 9999:\n",
    "        return 'Unknown Minutes'\n",
    "    else:\n",
    "        return 'Other'\n",
    "\n",
    "not_hour_cat = df['NOT_MIN'].apply(categorize_not_hour)\n",
    "cat_counts = not_hour_cat.value_counts().sort_index()\n",
    "cat_percents = 100 * cat_counts / len(df)\n",
    "\n",
    "fig = px.bar(\n",
    "    x=cat_counts.index,\n",
    "    y=cat_counts.values,\n",
    "    labels={'x': 'NOT_MIN Category', 'y': 'Count'},\n",
    "    title='Distribution of NOT_MIN Categories',\n",
    "    text=[f\"{p:.1f}%\" for p in cat_percents]\n",
    ")\n",
    "fig.update_traces(textposition='outside')\n",
    "fig.show()\n",
    "# ...existing code..."
   ]
  },
  {
   "cell_type": "code",
   "execution_count": null,
   "id": "e5bfd020",
   "metadata": {},
   "outputs": [
    {
     "data": {
      "image/png": "[encoded data removed]",
      "text/plain": [
       "<Figure size 1000x500 with 1 Axes>"
      ]
     },
     "metadata": {},
     "output_type": "display_data"
    }
   ],
   "source": [
    "# ...existing code...\n",
    "\n",
    "# HARM_EV code to description mapping\n",
    "harm_ev_map = {\n",
    "    1: \"Rollover/Overturn\",\n",
    "    2: \"Fire/Explosion\",\n",
    "    3: \"Immersion or Partial Immersion\",\n",
    "    4: \"Gas Inhalation\",\n",
    "    5: \"Fell/Jumped from Vehicle\",\n",
    "    6: \"Injured in Vehicle (Non-Collision)\",\n",
    "    7: \"Other Non-Collision\",\n",
    "    8: \"Collision with Pedestrian\",\n",
    "    9: \"Collision with Pedalcyclist\",\n",
    "    10: \"Collision with Railway Vehicle\",\n",
    "    11: \"Collision with Live Animal\",\n",
    "    12: \"Collision with Motor Vehicle In-Transport\",\n",
    "    14: \"Collision with Parked Motor Vehicle\",\n",
    "    15: \"Collision with Non-Motorist on Personal Conveyance\",\n",
    "    16: \"Thrown or Falling Object\",\n",
    "    17: \"Collision with Boulder\",\n",
    "    18: \"Collision with Other Object (Not Fixed)\",\n",
    "    19: \"Collision with Building\",\n",
    "    20: \"Collision with Impact Attenuator/Crash Cushion\",\n",
    "    21: \"Collision with Bridge Pier or Support\",\n",
    "    23: \"Collision with Bridge Rail (Includes Parapet)\",\n",
    "    24: \"Collision with Guardrail Face\",\n",
    "    25: \"Collision with Concrete Traffic Barrier\",\n",
    "    26: \"Collision with Other Traffic Barrier\",\n",
    "    30: \"Collision with Utility Pole/Light Support\",\n",
    "    31: \"Collision with Other Post, Other Pole, or Other Supports\",\n",
    "    32: \"Collision with Culvert\",\n",
    "    33: \"Collision with Curb\",\n",
    "    34: \"Collision with Ditch\",\n",
    "    35: \"Collision with Embankment\",\n",
    "    38: \"Collision with Fence\",\n",
    "    39: \"Collision with Wall\",\n",
    "    40: \"Collision with Fire Hydrant\",\n",
    "    41: \"Collision with Shrubbery\",\n",
    "    42: \"Collision with Tree (Standing Only)\",\n",
    "    43: \"Collision with Other Fixed Object\",\n",
    "    44: \"Pavement Surface Irregularity (Ruts, Potholes, Grates, etc.)\",\n",
    "    45: \"Collision with Working Motor Vehicle\",\n",
    "    46: \"Collision with Traffic Signal Support\",\n",
    "    48: \"Collision with Snow Bank\",\n",
    "    49: \"Collision with Ridden Animal or Animal Drawn Conveyance\",\n",
    "    50: \"Collision with Bridge Overhead Structure\",\n",
    "    51: \"Jackknife (harmful to this vehicle)\",\n",
    "    52: \"Collision with Guardrail End\",\n",
    "    53: \"Collision with Mail Box\",\n",
    "    54: \"Motor Vehicle In-Transport Strikes or is Struck by Cargo, Persons or Objects Set-in-Motion from/by Another Motor Vehicle InTransport\",\n",
    "    55: \"Collision with Motor Vehicle in Motion Outside the Trafficway\",\n",
    "    57: \"Collision with Cable Barrier\",\n",
    "    58: \"Collision with Ground\",\n",
    "    59: \"Collision with Traffic Sign Support\",\n",
    "    72: \"Cargo/Equipment Loss, Shift, or Damage [harmful]\",\n",
    "    73: \"Collision with Object That Had Fallen from Motor Vehicle In-Transport\",\n",
    "    74: \"Collision with Road Vehicle on Rails\",\n",
    "    91: \"Unknown Object, Not Fixed New in 2017\",\n",
    "    93: \"Unknown Fixed Object New in 2017\",\n",
    "    99: \"Reported As Unknown\"\n",
    "}\n",
    "\n",
    "# Get top 10 HARM_EV codes by count\n",
    "top10 = df['HARM_EV'].value_counts().head(10)\n",
    "\n",
    "# Map codes to descriptions\n",
    "top10_desc = top10.rename(index=harm_ev_map)\n",
    "\n",
    "# Plot\n",
    "ax = top10_desc.plot(kind='barh', figsize=(10,5), title='Top 10 HARM_EV by Count')\n",
    "ax.set_xlabel('HARM_EV Description')\n",
    "ax.set_ylabel('Count')\n",
    "ax.set_xticklabels(ax.get_xticklabels(), rotation=45, ha='right')\n",
    "for p in ax.patches:\n",
    "    ax.annotate(str(int(p.get_height())), (p.get_x() + p.get_width() / 2, p.get_height()),\n",
    "                ha='center', va='bottom', fontsize=8, rotation=0)\n",
    "# ...existing code..."
   ]
  },
  {
   "cell_type": "code",
   "execution_count": 31,
   "id": "97e6e529",
   "metadata": {},
   "outputs": [
    {
     "data": {
      "image/png": "[encoded data removed]",
      "text/plain": [
       "<Figure size 1000x600 with 1 Axes>"
      ]
     },
     "metadata": {},
     "output_type": "display_data"
    }
   ],
   "source": [
    "# ...existing code...\n",
    "\n",
    "# HARM_EV code to description mapping\n",
    "harm_ev_map = {\n",
    "    1: \"Rollover/Overturn\",\n",
    "    2: \"Fire/Explosion\",\n",
    "    3: \"Immersion or Partial Immersion\",\n",
    "    4: \"Gas Inhalation\",\n",
    "    5: \"Fell/Jumped from Vehicle\",\n",
    "    6: \"Injured in Vehicle (Non-Collision)\",\n",
    "    7: \"Other Non-Collision\",\n",
    "    8: \"Collision with Pedestrian\",\n",
    "    9: \"Collision with Pedalcyclist\",\n",
    "    10: \"Collision with Railway Vehicle\",\n",
    "    11: \"Collision with Live Animal\",\n",
    "    12: \"Collision with Motor Vehicle In-Transport\",\n",
    "    14: \"Collision with Parked Motor Vehicle\",\n",
    "    15: \"Collision with Non-Motorist on Personal Conveyance\",\n",
    "    16: \"Thrown or Falling Object\",\n",
    "    17: \"Collision with Boulder\",\n",
    "    18: \"Collision with Other Object (Not Fixed)\",\n",
    "    19: \"Collision with Building\",\n",
    "    20: \"Collision with Impact Attenuator/Crash Cushion\",\n",
    "    21: \"Collision with Bridge Pier or Support\",\n",
    "    23: \"Collision with Bridge Rail (Includes Parapet)\",\n",
    "    24: \"Collision with Guardrail Face\",\n",
    "    25: \"Collision with Concrete Traffic Barrier\",\n",
    "    26: \"Collision with Other Traffic Barrier\",\n",
    "    30: \"Collision with Utility Pole/Light Support\",\n",
    "    31: \"Collision with Other Post, Other Pole, or Other Supports\",\n",
    "    32: \"Collision with Culvert\",\n",
    "    33: \"Collision with Curb\",\n",
    "    34: \"Collision with Ditch\",\n",
    "    35: \"Collision with Embankment\",\n",
    "    38: \"Collision with Fence\",\n",
    "    39: \"Collision with Wall\",\n",
    "    40: \"Collision with Fire Hydrant\",\n",
    "    41: \"Collision with Shrubbery\",\n",
    "    42: \"Collision with Tree (Standing Only)\",\n",
    "    43: \"Collision with Other Fixed Object\",\n",
    "    44: \"Pavement Surface Irregularity (Ruts, Potholes, Grates, etc.)\",\n",
    "    45: \"Collision with Working Motor Vehicle\",\n",
    "    46: \"Collision with Traffic Signal Support\",\n",
    "    48: \"Collision with Snow Bank\",\n",
    "    49: \"Collision with Ridden Animal or Animal Drawn Conveyance\",\n",
    "    50: \"Collision with Bridge Overhead Structure\",\n",
    "    51: \"Jackknife (harmful to this vehicle)\",\n",
    "    52: \"Collision with Guardrail End\",\n",
    "    53: \"Collision with Mail Box\",\n",
    "    54: \"Motor Vehicle In-Transport Strikes or is Struck by Cargo, Persons or Objects Set-in-Motion from/by Another Motor Vehicle InTransport\",\n",
    "    55: \"Collision with Motor Vehicle in Motion Outside the Trafficway\",\n",
    "    57: \"Collision with Cable Barrier\",\n",
    "    58: \"Collision with Ground\",\n",
    "    59: \"Collision with Traffic Sign Support\",\n",
    "    72: \"Cargo/Equipment Loss, Shift, or Damage [harmful]\",\n",
    "    73: \"Collision with Object That Had Fallen from Motor Vehicle In-Transport\",\n",
    "    74: \"Collision with Road Vehicle on Rails\",\n",
    "    91: \"Unknown Object, Not Fixed New in 2017\",\n",
    "    93: \"Unknown Fixed Object New in 2017\",\n",
    "    99: \"Reported As Unknown\"\n",
    "}\n",
    "\n",
    "# Get top 10 HARM_EV codes by count\n",
    "top10 = df['HARM_EV'].value_counts().head(10)\n",
    "\n",
    "# Map codes to descriptions\n",
    "top10_desc = top10.rename(index=harm_ev_map)\n",
    "\n",
    "# Horizontal bar plot\n",
    "ax = top10_desc.plot(kind='barh', figsize=(10, 6), title='Top 10 HARM_EV by Count')\n",
    "ax.set_xlabel('Count')\n",
    "ax.set_ylabel('HARM_EV Description')\n",
    "ax.set_yticklabels(ax.get_yticklabels(), rotation=0)\n",
    "for p in ax.patches:\n",
    "    ax.annotate(str(int(p.get_width())), (p.get_width(), p.get_y() + p.get_height() / 2),\n",
    "                ha='left', va='center', fontsize=8)\n",
    "# ...existing code..."
   ]
  },
  {
   "cell_type": "code",
   "execution_count": 34,
   "id": "33c734d5",
   "metadata": {},
   "outputs": [
    {
     "data": {
      "image/png": "[encoded data removed]",
      "text/plain": [
       "<Figure size 1000x600 with 1 Axes>"
      ]
     },
     "metadata": {},
     "output_type": "display_data"
    }
   ],
   "source": [
    "# ...existing code...\n",
    "\n",
    "# Get top 10 HARM_EV codes by count (already in descending order)\n",
    "top10 = df['HARM_EV'].value_counts().head(10)\n",
    "\n",
    "# Map codes to descriptions\n",
    "top10_desc = top10.rename(index=harm_ev_map)\n",
    "\n",
    "# Sort in descending order for horizontal bar plot\n",
    "top10_desc = top10_desc.sort_values(ascending=True)  # So the largest is at the top of the horizontal bar\n",
    "\n",
    "# Horizontal bar plot\n",
    "ax = top10_desc.plot(kind='barh', figsize=(10, 6), title='Top 10 Fatality types')\n",
    "ax.set_xlabel('Count')\n",
    "ax.set_ylabel('Type of Fatality')\n",
    "ax.set_yticklabels(ax.get_yticklabels(), rotation=0)\n",
    "for p in ax.patches:\n",
    "    ax.annotate(str(int(p.get_width())), (p.get_width(), p.get_y() + p.get_height() / 2),\n",
    "                ha='left', va='center', fontsize=8)\n",
    "# ...existing code..."
   ]
  },
  {
   "cell_type": "code",
   "execution_count": 40,
   "id": "92c381ef",
   "metadata": {},
   "outputs": [
    {
     "data": {
      "image/png": "[encoded data removed]",
      "text/plain": [
       "<Figure size 1000x600 with 1 Axes>"
      ]
     },
     "metadata": {},
     "output_type": "display_data"
    }
   ],
   "source": [
    "# ...existing code...\n",
    "\n",
    "# Get top 10 HARM_EV codes by count (already in descending order)\n",
    "top10 = df['HARM_EV'].value_counts().head(5)\n",
    "\n",
    "# Map codes to descriptions\n",
    "top10_desc = top10.rename(index=harm_ev_map)\n",
    "\n",
    "# Calculate percentages\n",
    "top10_percent = 100 * top10_desc / top10_desc.sum()\n",
    "\n",
    "# Sort in ascending order for horizontal bar plot (largest at top)\n",
    "top10_desc = top10_desc.sort_values(ascending=True)\n",
    "top10_percent = top10_percent[top10_desc.index]  # align order\n",
    "\n",
    "# Color mapping: high (red) to low (lightcoral)\n",
    "import matplotlib.pyplot as plt\n",
    "import numpy as np\n",
    "\n",
    "colors = plt.cm.Reds(np.linspace(0.6, 0.8, len(top10_desc)))  # darker red for higher values\n",
    "\n",
    "# Horizontal bar plot with count and percent\n",
    "ax = top10_desc.plot(\n",
    "    kind='barh',\n",
    "    figsize=(10, 6),\n",
    "    title='Top 5 Fatality Types',\n",
    "    color=colors\n",
    ")\n",
    "ax.set_xlabel('Count')\n",
    "ax.set_ylabel('Type of Fatality')\n",
    "ax.set_yticklabels(ax.get_yticklabels(), rotation=0)\n",
    "for i, p in enumerate(ax.patches):\n",
    "    count = int(p.get_width())\n",
    "    percent = top10_percent.iloc[i]\n",
    "    ax.annotate(f\"{count} ({percent:.1f}%)\", (p.get_width(), p.get_y() + p.get_height() / 2),\n",
    "                ha='left', va='center', fontsize=8)\n",
    "plt.tight_layout()\n",
    "plt.show()\n",
    "# ...existing code..."
   ]
  },
  {
   "cell_type": "code",
   "execution_count": 42,
   "id": "1cea113f",
   "metadata": {},
   "outputs": [
    {
     "name": "stdout",
     "output_type": "stream",
     "text": [
      "    STATENAME  Avg_Fatalities  Avg_Vehicles  Median_Hour\n",
      "0     Alabama        1.090705      1.564390         14.0\n",
      "1      Alaska        1.071429      1.553571         17.0\n",
      "2     Arizona        1.091213      1.660251         15.0\n",
      "3    Arkansas        1.099631      1.570111         14.0\n",
      "4  California        1.089616      1.583579         15.0\n"
     ]
    }
   ],
   "source": [
    "# ...existing code...\n",
    "\n",
    "# Group by state and aggregate\n",
    "state_stats = df.groupby('STATENAME').agg(\n",
    "    Avg_Fatalities=('FATALS', 'mean'),\n",
    "    Avg_Vehicles=('VE_TOTAL', 'mean'),\n",
    "    Median_Hour=('HOUR', 'median')  # Replace 'HOUR' with your actual hour column name\n",
    ").reset_index()\n",
    "\n",
    "\n",
    "# Reorder columns for display\n",
    "state_stats = state_stats[['STATENAME', 'Avg_Fatalities', 'Avg_Vehicles', 'Median_Hour']]\n",
    "\n",
    "# Show the result\n",
    "print(state_stats.head())\n",
    "# ...existing code..."
   ]
  },
  {
   "cell_type": "code",
   "execution_count": 49,
   "id": "12880923",
   "metadata": {},
   "outputs": [
    {
     "data": {
      "text/html": [
       "<div>\n",
       "<style scoped>\n",
       "    .dataframe tbody tr th:only-of-type {\n",
       "        vertical-align: middle;\n",
       "    }\n",
       "\n",
       "    .dataframe tbody tr th {\n",
       "        vertical-align: top;\n",
       "    }\n",
       "\n",
       "    .dataframe thead th {\n",
       "        text-align: right;\n",
       "    }\n",
       "</style>\n",
       "<table border=\"1\" class=\"dataframe\">\n",
       "  <thead>\n",
       "    <tr style=\"text-align: right;\">\n",
       "      <th></th>\n",
       "      <th>STATENAME</th>\n",
       "      <th>Total_Crashes</th>\n",
       "      <th>Total_Fatalities</th>\n",
       "      <th>Avg_Fatalities</th>\n",
       "      <th>Avg_Vehicles</th>\n",
       "      <th>Median_Hour</th>\n",
       "      <th>Mode_HR_EVE</th>\n",
       "      <th>Avg_Day_of_Week</th>\n",
       "    </tr>\n",
       "  </thead>\n",
       "  <tbody>\n",
       "    <tr>\n",
       "      <th>44</th>\n",
       "      <td>Texas</td>\n",
       "      <td>3874</td>\n",
       "      <td>4291</td>\n",
       "      <td>1.107641</td>\n",
       "      <td>1.631905</td>\n",
       "      <td>21</td>\n",
       "      <td>12</td>\n",
       "      <td>1</td>\n",
       "    </tr>\n",
       "    <tr>\n",
       "      <th>4</th>\n",
       "      <td>California</td>\n",
       "      <td>3727</td>\n",
       "      <td>4061</td>\n",
       "      <td>1.089616</td>\n",
       "      <td>1.583579</td>\n",
       "      <td>20</td>\n",
       "      <td>12</td>\n",
       "      <td>1</td>\n",
       "    </tr>\n",
       "    <tr>\n",
       "      <th>9</th>\n",
       "      <td>Florida</td>\n",
       "      <td>3183</td>\n",
       "      <td>3396</td>\n",
       "      <td>1.066918</td>\n",
       "      <td>1.620798</td>\n",
       "      <td>20</td>\n",
       "      <td>12</td>\n",
       "      <td>7</td>\n",
       "    </tr>\n",
       "    <tr>\n",
       "      <th>10</th>\n",
       "      <td>Georgia</td>\n",
       "      <td>1491</td>\n",
       "      <td>1615</td>\n",
       "      <td>1.083166</td>\n",
       "      <td>1.557344</td>\n",
       "      <td>19</td>\n",
       "      <td>12</td>\n",
       "      <td>7</td>\n",
       "    </tr>\n",
       "    <tr>\n",
       "      <th>33</th>\n",
       "      <td>North Carolina</td>\n",
       "      <td>1449</td>\n",
       "      <td>1561</td>\n",
       "      <td>1.077295</td>\n",
       "      <td>1.563837</td>\n",
       "      <td>21</td>\n",
       "      <td>12</td>\n",
       "      <td>7</td>\n",
       "    </tr>\n",
       "    <tr>\n",
       "      <th>43</th>\n",
       "      <td>Tennessee</td>\n",
       "      <td>1219</td>\n",
       "      <td>1323</td>\n",
       "      <td>1.085316</td>\n",
       "      <td>1.612797</td>\n",
       "      <td>20</td>\n",
       "      <td>12</td>\n",
       "      <td>7</td>\n",
       "    </tr>\n",
       "    <tr>\n",
       "      <th>2</th>\n",
       "      <td>Arizona</td>\n",
       "      <td>1195</td>\n",
       "      <td>1304</td>\n",
       "      <td>1.091213</td>\n",
       "      <td>1.660251</td>\n",
       "      <td>18</td>\n",
       "      <td>12</td>\n",
       "      <td>7</td>\n",
       "    </tr>\n",
       "    <tr>\n",
       "      <th>35</th>\n",
       "      <td>Ohio</td>\n",
       "      <td>1150</td>\n",
       "      <td>1242</td>\n",
       "      <td>1.080000</td>\n",
       "      <td>1.617391</td>\n",
       "      <td>19</td>\n",
       "      <td>12</td>\n",
       "      <td>7</td>\n",
       "    </tr>\n",
       "    <tr>\n",
       "      <th>13</th>\n",
       "      <td>Illinois</td>\n",
       "      <td>1143</td>\n",
       "      <td>1241</td>\n",
       "      <td>1.085739</td>\n",
       "      <td>1.664042</td>\n",
       "      <td>21</td>\n",
       "      <td>12</td>\n",
       "      <td>7</td>\n",
       "    </tr>\n",
       "    <tr>\n",
       "      <th>38</th>\n",
       "      <td>Pennsylvania</td>\n",
       "      <td>1133</td>\n",
       "      <td>1211</td>\n",
       "      <td>1.068844</td>\n",
       "      <td>1.593998</td>\n",
       "      <td>18</td>\n",
       "      <td>12</td>\n",
       "      <td>7</td>\n",
       "    </tr>\n",
       "  </tbody>\n",
       "</table>\n",
       "</div>"
      ],
      "text/plain": [
       "         STATENAME  Total_Crashes  Total_Fatalities  Avg_Fatalities  \\\n",
       "44           Texas           3874              4291        1.107641   \n",
       "4       California           3727              4061        1.089616   \n",
       "9          Florida           3183              3396        1.066918   \n",
       "10         Georgia           1491              1615        1.083166   \n",
       "33  North Carolina           1449              1561        1.077295   \n",
       "43       Tennessee           1219              1323        1.085316   \n",
       "2          Arizona           1195              1304        1.091213   \n",
       "35            Ohio           1150              1242        1.080000   \n",
       "13        Illinois           1143              1241        1.085739   \n",
       "38    Pennsylvania           1133              1211        1.068844   \n",
       "\n",
       "    Avg_Vehicles  Median_Hour  Mode_HR_EVE  Avg_Day_of_Week  \n",
       "44      1.631905           21           12                1  \n",
       "4       1.583579           20           12                1  \n",
       "9       1.620798           20           12                7  \n",
       "10      1.557344           19           12                7  \n",
       "33      1.563837           21           12                7  \n",
       "43      1.612797           20           12                7  \n",
       "2       1.660251           18           12                7  \n",
       "35      1.617391           19           12                7  \n",
       "13      1.664042           21           12                7  \n",
       "38      1.593998           18           12                7  "
      ]
     },
     "execution_count": 49,
     "metadata": {},
     "output_type": "execute_result"
    }
   ],
   "source": [
    "# ...existing code...\n",
    "\n",
    "def mode_or_nan(series):\n",
    "    mode = series.mode()\n",
    "    return mode.iloc[0] if not mode.empty else np.nan\n",
    "\n",
    "# Group by state and aggregate\n",
    "state_stats = df.groupby('STATENAME').agg(\n",
    "    Total_Crashes=('STATENAME', 'count'),\n",
    "    Total_Fatalities=('FATALS', 'sum'),\n",
    "    Avg_Fatalities=('FATALS', 'mean'),\n",
    "    Avg_Vehicles=('VE_TOTAL', 'mean'),\n",
    "    Median_Hour=('HOUR', mode_or_nan),\n",
    "    Mode_HR_EVE=('HARM_EV', mode_or_nan),\n",
    "    Avg_Day_of_Week=('DAY_WEEK', mode_or_nan)  # Most common day of week\n",
    ").reset_index()\n",
    "\n",
    "# Reorder columns for display\n",
    "state_stats = state_stats[['STATENAME', 'Total_Crashes', 'Total_Fatalities', 'Avg_Fatalities', 'Avg_Vehicles', 'Median_Hour', 'Mode_HR_EVE', 'Avg_Day_of_Week']]\n",
    "# Order by Total_Crashes descending\n",
    "\n",
    "state_stats = state_stats.sort_values(by='Total_Crashes', ascending=False)\n",
    "\n",
    "# Show the result\n",
    "state_stats.head(10)\n",
    "# ...existing code..."
   ]
  }
 ],
 "metadata": {
  "kernelspec": {
   "display_name": "Python 3",
   "language": "python",
   "name": "python3"
  },
  "language_info": {
   "codemirror_mode": {
    "name": "ipython",
    "version": 3
   },
   "file_extension": ".py",
   "mimetype": "text/x-python",
   "name": "python",
   "nbconvert_exporter": "python",
   "pygments_lexer": "ipython3",
   "version": "3.11.9"
  }
 },
 "nbformat": 4,
 "nbformat_minor": 5
}
